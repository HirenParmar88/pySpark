{
 "cells": [
  {
   "cell_type": "code",
   "execution_count": 1,
   "id": "f4f1ec3e",
   "metadata": {},
   "outputs": [],
   "source": [
    "# PySpark"
   ]
  },
  {
   "cell_type": "code",
   "execution_count": 2,
   "id": "16a9d7ec",
   "metadata": {},
   "outputs": [
    {
     "name": "stdout",
     "output_type": "stream",
     "text": [
      "Requirement already satisfied: pyspark in c:\\users\\hiren\\anaconda3\\lib\\site-packages (3.5.3)\n",
      "Requirement already satisfied: py4j==0.10.9.7 in c:\\users\\hiren\\anaconda3\\lib\\site-packages (from pyspark) (0.10.9.7)\n",
      "Note: you may need to restart the kernel to use updated packages.\n"
     ]
    }
   ],
   "source": [
    "pip install pyspark"
   ]
  },
  {
   "cell_type": "code",
   "execution_count": 3,
   "id": "84624873",
   "metadata": {},
   "outputs": [],
   "source": [
    "from pyspark.sql import SparkSession\n",
    "from pyspark.sql.functions import col,desc"
   ]
  },
  {
   "cell_type": "code",
   "execution_count": 4,
   "id": "f6ba16ff",
   "metadata": {},
   "outputs": [],
   "source": [
    "spark=SparkSession.builder.appName(\"TopChessPlayers\").getOrCreate()"
   ]
  },
  {
   "cell_type": "code",
   "execution_count": 5,
   "id": "e2022545",
   "metadata": {},
   "outputs": [],
   "source": [
    "dataframe=\"data.csv\"\n",
    "df=spark.read.csv(dataframe,header=True)"
   ]
  },
  {
   "cell_type": "code",
   "execution_count": 6,
   "id": "985451f2",
   "metadata": {},
   "outputs": [
    {
     "name": "stdout",
     "output_type": "stream",
     "text": [
      "+------+-------+-------+------+\n",
      "|player|country|ranking|rating|\n",
      "+------+-------+-------+------+\n",
      "| hiren|  india|      1|  2859|\n",
      "|  ravi|    USA|      2|  2792|\n",
      "|  aman| Russia|      3|  2789|\n",
      "|   yug|america|      4|  2783|\n",
      "| yashu|  india|      5|  2775|\n",
      "+------+-------+-------+------+\n",
      "only showing top 5 rows\n",
      "\n"
     ]
    }
   ],
   "source": [
    "df.show(5)"
   ]
  },
  {
   "cell_type": "code",
   "execution_count": 8,
   "id": "3a96568a",
   "metadata": {},
   "outputs": [
    {
     "name": "stdout",
     "output_type": "stream",
     "text": [
      "+------+-------+-------+------+\n",
      "|player|country|ranking|rating|\n",
      "+------+-------+-------+------+\n",
      "| hiren|  india|      1|  2859|\n",
      "|  ravi|    USA|      2|  2792|\n",
      "|  aman| Russia|      3|  2789|\n",
      "|   yug|america|      4|  2783|\n",
      "| yashu|  india|      5|  2775|\n",
      "| vivek|  china|      6|  2666|\n",
      "|   jay| norway|      7|  2606|\n",
      "+------+-------+-------+------+\n",
      "\n"
     ]
    }
   ],
   "source": [
    "#sort players by rating\n",
    "players=df.orderBy(desc(\"Rating\"))\n",
    "players.show(10)"
   ]
  },
  {
   "cell_type": "code",
   "execution_count": 10,
   "id": "76fbcef1",
   "metadata": {},
   "outputs": [
    {
     "name": "stdout",
     "output_type": "stream",
     "text": [
      "+------+-------+-------+------+\n",
      "|player|country|ranking|rating|\n",
      "+------+-------+-------+------+\n",
      "|  aman| Russia|      3|  2789|\n",
      "+------+-------+-------+------+\n",
      "\n"
     ]
    }
   ],
   "source": [
    "#filter player from specific country\n",
    "russian_player=df.filter(col(\"country\")==\"Russia\")\n",
    "russian_player.show()"
   ]
  },
  {
   "cell_type": "code",
   "execution_count": 13,
   "id": "8092fe4e",
   "metadata": {},
   "outputs": [
    {
     "name": "stdout",
     "output_type": "stream",
     "text": [
      "Avg rating : 2752.8571428571427\n"
     ]
    }
   ],
   "source": [
    "#find average rating of top players\n",
    "avg_rating=df.agg({\"rating\":\"avg\"}).collect()[0][0]\n",
    "print(f\"Avg rating : {avg_rating}\")"
   ]
  },
  {
   "cell_type": "code",
   "execution_count": 14,
   "id": "d64a31ea",
   "metadata": {},
   "outputs": [
    {
     "name": "stdout",
     "output_type": "stream",
     "text": [
      "total rating : 19270.0\n"
     ]
    }
   ],
   "source": [
    "#sum of a column\n",
    "tot_rating=df.agg({\"rating\":\"sum\"}).collect()[0][0]\n",
    "print(f\"total rating : {tot_rating}\")"
   ]
  },
  {
   "cell_type": "code",
   "execution_count": 15,
   "id": "d226ac3a",
   "metadata": {},
   "outputs": [
    {
     "name": "stdout",
     "output_type": "stream",
     "text": [
      "min rating : 2606\n"
     ]
    }
   ],
   "source": [
    "#min value in rating column\n",
    "min_rating=df.agg({\"rating\":\"min\"}).collect()[0][0]\n",
    "print(f\"min rating : {min_rating}\")"
   ]
  },
  {
   "cell_type": "code",
   "execution_count": 16,
   "id": "f3ed4f04",
   "metadata": {},
   "outputs": [
    {
     "name": "stdout",
     "output_type": "stream",
     "text": [
      "max rating : 2859\n"
     ]
    }
   ],
   "source": [
    "#max value in rating column\n",
    "max_rating=df.agg({\"rating\":\"max\"}).collect()[0][0]\n",
    "print(f\"max rating : {max_rating}\")"
   ]
  },
  {
   "cell_type": "code",
   "execution_count": 17,
   "id": "8d7a40b2",
   "metadata": {},
   "outputs": [
    {
     "name": "stdout",
     "output_type": "stream",
     "text": [
      "count players : 7\n"
     ]
    }
   ],
   "source": [
    "#count rows for player column\n",
    "player_count=df.agg({\"rating\":\"count\"}).collect()[0][0]\n",
    "print(f\"count players : {player_count}\")"
   ]
  },
  {
   "cell_type": "code",
   "execution_count": 18,
   "id": "f150c47d",
   "metadata": {},
   "outputs": [
    {
     "name": "stdout",
     "output_type": "stream",
     "text": [
      "+-------+-----+\n",
      "|country|count|\n",
      "+-------+-----+\n",
      "| Russia|    1|\n",
      "|america|    1|\n",
      "|  india|    2|\n",
      "|    USA|    1|\n",
      "| norway|    1|\n",
      "|  china|    1|\n",
      "+-------+-----+\n",
      "\n"
     ]
    }
   ],
   "source": [
    "#groupBy and count in a country column\n",
    "country_count=df.groupBy(\"country\").count()\n",
    "country_count.show()"
   ]
  },
  {
   "cell_type": "code",
   "execution_count": 19,
   "id": "6c3b0ed3",
   "metadata": {},
   "outputs": [
    {
     "name": "stdout",
     "output_type": "stream",
     "text": [
      "+-------+-----------+\n",
      "|country|avg(rating)|\n",
      "+-------+-----------+\n",
      "| Russia|     2789.0|\n",
      "|america|     2783.0|\n",
      "|  india|     2817.0|\n",
      "|    USA|     2792.0|\n",
      "| norway|     2606.0|\n",
      "|  china|     2666.0|\n",
      "+-------+-----------+\n",
      "\n"
     ]
    }
   ],
   "source": [
    "#groupBy and agg\n",
    "avg_rating_per_country=df.groupBy(\"country\").agg({\"rating\":\"avg\"})\n",
    "avg_rating_per_country.show()"
   ]
  },
  {
   "cell_type": "code",
   "execution_count": 23,
   "id": "8de3078b",
   "metadata": {},
   "outputs": [
    {
     "name": "stdout",
     "output_type": "stream",
     "text": [
      "+-------+-----------+-----------+\n",
      "|country|max(Rating)|avg(rating)|\n",
      "+-------+-----------+-----------+\n",
      "| Russia|       2789|     2789.0|\n",
      "|    USA|       2792|     2792.0|\n",
      "|america|       2783|     2783.0|\n",
      "|  china|       2666|     2666.0|\n",
      "|  india|       2859|     2817.0|\n",
      "| norway|       2606|     2606.0|\n",
      "+-------+-----------+-----------+\n",
      "\n"
     ]
    }
   ],
   "source": [
    "#average maximum rating for country\n",
    "avg_max_ratings=df.groupBy(\"country\").agg({\"rating\":\"avg\",\"Rating\":\"max\"})\n",
    "avg_max_ratings.show()"
   ]
  },
  {
   "cell_type": "code",
   "execution_count": 29,
   "id": "6cd0b3d2",
   "metadata": {},
   "outputs": [
    {
     "name": "stdout",
     "output_type": "stream",
     "text": [
      "+------------------+-----------+-------------+\n",
      "|       avg(rating)|sum(rating)|count(rating)|\n",
      "+------------------+-----------+-------------+\n",
      "|2752.8571428571427|    19270.0|            7|\n",
      "+------------------+-----------+-------------+\n",
      "\n"
     ]
    }
   ],
   "source": [
    "#select and functions : using PySpark functions\n",
    "\n",
    "from pyspark.sql.functions import mean,sum,count\n",
    "\n",
    "select_fun=df.select(mean(\"rating\"),sum(\"rating\"),count(\"rating\"))\n",
    "select_fun.show()"
   ]
  },
  {
   "cell_type": "code",
   "execution_count": 30,
   "id": "52e91b29",
   "metadata": {},
   "outputs": [
    {
     "name": "stdout",
     "output_type": "stream",
     "text": [
      "avg rating of russian players : 2789.0\n"
     ]
    }
   ],
   "source": [
    "# filetr and aggrigation\n",
    "avg_russian_rating=df.filter(col(\"country\")==\"Russia\").agg({\"rating\":\"avg\"}).collect()[0][0]\n",
    "print(f\"avg rating of russian players : {avg_russian_rating}\")"
   ]
  },
  {
   "cell_type": "code",
   "execution_count": 33,
   "id": "3b456f8c",
   "metadata": {},
   "outputs": [
    {
     "name": "stdout",
     "output_type": "stream",
     "text": [
      "+------+-------+-------+------+----+\n",
      "|player|country|ranking|rating|rank|\n",
      "+------+-------+-------+------+----+\n",
      "| hiren|  india|      1|  2859|   1|\n",
      "|  ravi|    USA|      2|  2792|   2|\n",
      "|  aman| Russia|      3|  2789|   3|\n",
      "|   yug|america|      4|  2783|   4|\n",
      "| yashu|  india|      5|  2775|   5|\n",
      "| vivek|  china|      6|  2666|   6|\n",
      "|   jay| norway|      7|  2606|   7|\n",
      "+------+-------+-------+------+----+\n",
      "\n"
     ]
    }
   ],
   "source": [
    "# window functions : running aggrigates\n",
    "\n",
    "from pyspark.sql.window import Window\n",
    "from pyspark.sql.functions import rank\n",
    "\n",
    "#create a window specification, order by rating in descending order\n",
    "window_spec=Window.orderBy(col(\"rating\").desc())\n",
    "\n",
    "# Apply the Rank Function\n",
    "ranked_player=df.withColumn(\"rank\",rank().over(window_spec))\n",
    "ranked_player.show()"
   ]
  },
  {
   "cell_type": "code",
   "execution_count": 34,
   "id": "bf01daea",
   "metadata": {},
   "outputs": [
    {
     "name": "stdout",
     "output_type": "stream",
     "text": [
      "+-----------+\n",
      "|sum(rating)|\n",
      "+-----------+\n",
      "|    19270.0|\n",
      "+-----------+\n",
      "\n"
     ]
    }
   ],
   "source": [
    "# Multiple aggrigation using agg()\n",
    "\n",
    "mul_agg=df.agg({\"rating\":\"avg\",\"rating\":\"max\",\"rating\":\"sum\"})\n",
    "mul_agg.show()"
   ]
  },
  {
   "cell_type": "code",
   "execution_count": null,
   "id": "82233fb3",
   "metadata": {},
   "outputs": [],
   "source": []
  }
 ],
 "metadata": {
  "kernelspec": {
   "display_name": "Python 3 (ipykernel)",
   "language": "python",
   "name": "python3"
  },
  "language_info": {
   "codemirror_mode": {
    "name": "ipython",
    "version": 3
   },
   "file_extension": ".py",
   "mimetype": "text/x-python",
   "name": "python",
   "nbconvert_exporter": "python",
   "pygments_lexer": "ipython3",
   "version": "3.11.4"
  }
 },
 "nbformat": 4,
 "nbformat_minor": 5
}
